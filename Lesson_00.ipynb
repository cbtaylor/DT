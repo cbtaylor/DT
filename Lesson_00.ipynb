{
  "nbformat": 4,
  "nbformat_minor": 0,
  "metadata": {
    "colab": {
      "name": "Lesson 00",
      "provenance": [],
      "collapsed_sections": [],
      "authorship_tag": "ABX9TyNq42bQ3Q0rsOdYGLRVUYni",
      "include_colab_link": true
    },
    "kernelspec": {
      "name": "python3",
      "display_name": "Python 3"
    }
  },
  "cells": [
    {
      "cell_type": "markdown",
      "metadata": {
        "id": "view-in-github",
        "colab_type": "text"
      },
      "source": [
        "<a href=\"https://colab.research.google.com/github/cbtaylor/DT/blob/main/Lesson_00.ipynb\" target=\"_parent\"><img src=\"https://colab.research.google.com/assets/colab-badge.svg\" alt=\"Open In Colab\"/></a>"
      ]
    },
    {
      "cell_type": "markdown",
      "metadata": {
        "id": "8CqVcs3ycZMS"
      },
      "source": [
        "![DT logo](https://www.vsb.bc.ca/schools/david-thompson/Style%20Library/ci_upload/b23adb4c-51ee-4635-bf1e-fb49cd258469n.png)\n",
        "**Computer Studies 10**\n",
        "\n",
        "---\n",
        "\n",
        "\n",
        "## Python Unit ##\n",
        "We will be learning Python 3 in this course. There is a textbook for the course, but I will only cover a small part of it. The text is called *Think Python*. You can download a PDF of the book [here](http://greenteapress.com/thinkpython2/thinkpython2.pdf), or you can view an HTML version of the book [here](http://greenteapress.com/thinkpython2/html/index.html). I will copy exercises from the book into some lessons.\n"
      ]
    },
    {
      "cell_type": "markdown",
      "metadata": {
        "id": "lAA9ZrTuKaJh"
      },
      "source": [
        "**Lesson 00**\n",
        "\n",
        "Traditionally the first thing you learn how to do in any computer programming language is to display the statement `Hello World!` Here's how to do that in Python.\n",
        "\n",
        "To get the code block below to run you can click on the 'play' icon at the left of the code block, or you can select the block by clicking in it and (in Windows) type shift-enter to run the code and move to the next cell, or ctrl-enter to run the code and stay in the cell. (On a Mac use the command key instead of the ctrl key.)\n",
        "\n",
        "After getting it to run once, edit the phrase to have it print something else out. Any text to be printed must be within quotes, but in Python you can use single or double quote characters, as long as you are consistent and use the same quote character at the beginning and end.\n",
        "\n",
        "Note that anything written after a # symbol is a comment and is ignored by the Python interpreter. It's a good idea to comment your code whenever you want to draw attention to something or explain something that isn't self-evident. However, it is possible to overdo comments."
      ]
    },
    {
      "cell_type": "code",
      "metadata": {
        "id": "0bHbVtuqcYZV"
      },
      "source": [
        "print(\"Hello World!\") # that was easy!"
      ],
      "execution_count": null,
      "outputs": []
    },
    {
      "cell_type": "markdown",
      "metadata": {
        "id": "SUiG-F3FdxQY"
      },
      "source": [
        "Now let's have Python ask you what your name is."
      ]
    },
    {
      "cell_type": "code",
      "metadata": {
        "id": "j5Q7h06-dwnN"
      },
      "source": [
        "name = input(\"What is your name? \") # this will store whatever text you enter in the variable called name\n",
        "print(\"Is your name really\", name, \"?\") # this is a fairly simple print statement using commas"
      ],
      "execution_count": null,
      "outputs": []
    },
    {
      "cell_type": "markdown",
      "metadata": {
        "id": "cf7opH_BjNjW"
      },
      "source": [
        "You might have noticed that when Python printed out the question asking if your name really was what you entered there was a space after the name you entered. How can we format the print statement so that we don't have that space?\n",
        "\n",
        "Turns out there are a few ways."
      ]
    },
    {
      "cell_type": "code",
      "metadata": {
        "id": "4onKRHK_kbQu"
      },
      "source": [
        "print(\"Is your name really \" + name + \"?\") # probably the simplest way\n",
        "print(\"Is your name really %s?\" %name) # the %s tells Python you will insert a string\n",
        "print(\"Is your name really {}?\".format(name)) # a newer more flexible way\n",
        "print(f\"Is your name really {name}?\") # even newer way (you must be using Python 3.6 or later)"
      ],
      "execution_count": null,
      "outputs": []
    },
    {
      "cell_type": "markdown",
      "metadata": {
        "id": "ZMes7ShgnD4-"
      },
      "source": [
        "There is yet one more way that is a bit more complicated. If you've done some Python programming you might want to read [this article](https://realpython.com/python-string-formatting/) that goes into more details about all these methods and their pros and cons."
      ]
    },
    {
      "cell_type": "markdown",
      "metadata": {
        "id": "vMxHPORw_rfy"
      },
      "source": [
        "Let's do some math with Python. All the basic operations are available right out of the box. But there are a couple of symbols you have to get straight and one or two operations that might be new. Mathematical expressions can be entered directly into the code cells – there is no need to ask for the results to be printed."
      ]
    },
    {
      "cell_type": "code",
      "metadata": {
        "id": "nhrxH1E-As_b"
      },
      "source": [
        "12 + 5"
      ],
      "execution_count": null,
      "outputs": []
    },
    {
      "cell_type": "code",
      "metadata": {
        "id": "1C1f8V9kBAQ9"
      },
      "source": [
        "30 - 7"
      ],
      "execution_count": null,
      "outputs": []
    },
    {
      "cell_type": "code",
      "metadata": {
        "id": "hXpbE18cBDKD"
      },
      "source": [
        "8 * 5"
      ],
      "execution_count": null,
      "outputs": []
    },
    {
      "cell_type": "markdown",
      "metadata": {
        "id": "4WVb7o4sBpUz"
      },
      "source": [
        "So far, so good. Most of you are probably familiar with the asterix as a symbol for multiplication. But let's see what happens with division."
      ]
    },
    {
      "cell_type": "code",
      "metadata": {
        "id": "lAh2nA7VBIJn"
      },
      "source": [
        "40 / 5"
      ],
      "execution_count": null,
      "outputs": []
    },
    {
      "cell_type": "code",
      "metadata": {
        "id": "6dFtROW_BM00"
      },
      "source": [
        "40 // 5"
      ],
      "execution_count": null,
      "outputs": []
    },
    {
      "cell_type": "markdown",
      "metadata": {
        "id": "8v93JmDzBQBg"
      },
      "source": [
        "Hmmm. What's going on with these last two. They both seem to be doing division, but the results are displayed a bit differently. Try entering different values for the dividend or divisor to figure out what the difference is here."
      ]
    },
    {
      "cell_type": "code",
      "metadata": {
        "id": "8V8gBuuSCBXG"
      },
      "source": [
        "12 % 5"
      ],
      "execution_count": null,
      "outputs": []
    },
    {
      "cell_type": "markdown",
      "metadata": {
        "id": "07lo4z-YCQLy"
      },
      "source": [
        "Change the values either side of the percent symbol to see if you can figure out what's going on in the cell above. You might have to remember how you first learned division back in elementary school. Do you remember the terms dividend, divisor, quotient and remainder? See if you can figure out what's going on in the following example."
      ]
    },
    {
      "cell_type": "code",
      "metadata": {
        "id": "4SD7Tr1KCj9E"
      },
      "source": [
        "dividend = int(input(\"Enter an integer bigger than 20: \"))\n",
        "divisor = int(input(\"Enter an integer smaller than 10: \"))\n",
        "print(\"When \" + str(dividend) + \" is divided by \" + str(divisor) + \n",
        "      \" the result is a quotient of \" + str(dividend // divisor) + \n",
        "      \" and a remainder of \" + str(dividend % divisor) + \".\")"
      ],
      "execution_count": null,
      "outputs": []
    },
    {
      "cell_type": "markdown",
      "metadata": {
        "id": "fSn10HcVE5Ak"
      },
      "source": [
        "What's the symbol for exponentiation?"
      ]
    },
    {
      "cell_type": "code",
      "metadata": {
        "id": "6RFta_ozEn24"
      },
      "source": [
        "2 ** 3"
      ],
      "execution_count": null,
      "outputs": []
    },
    {
      "cell_type": "code",
      "metadata": {
        "id": "d6fx7o8FFBoo"
      },
      "source": [
        "2 ^ 3"
      ],
      "execution_count": null,
      "outputs": []
    },
    {
      "cell_type": "markdown",
      "metadata": {
        "id": "HmoMCC4SFRXy"
      },
      "source": [
        "Hopefully, the above two cells make it clear which one is the symbol for an exponent. Try different numbers just to make sure. To understand the one that's not an exponent operator you can read about it [here](https://wiki.python.org/moin/BitwiseOperators)."
      ]
    },
    {
      "cell_type": "markdown",
      "metadata": {
        "id": "bpgUTZC8FmJI"
      },
      "source": [
        "Python, like all programming languages, has different data types. Let's use the built-in function `type` to explore those types."
      ]
    },
    {
      "cell_type": "code",
      "metadata": {
        "id": "af6B7qdEFw_o"
      },
      "source": [
        "type(4)"
      ],
      "execution_count": null,
      "outputs": []
    },
    {
      "cell_type": "code",
      "metadata": {
        "id": "DFx9GjLUFzYW"
      },
      "source": [
        "type(3.1415)"
      ],
      "execution_count": null,
      "outputs": []
    },
    {
      "cell_type": "code",
      "metadata": {
        "id": "Fw9RJHnSF2y2"
      },
      "source": [
        "type('Hello')"
      ],
      "execution_count": null,
      "outputs": []
    },
    {
      "cell_type": "code",
      "metadata": {
        "id": "RMb_uZreF85o"
      },
      "source": [
        "type([1, 2, 3])"
      ],
      "execution_count": null,
      "outputs": []
    },
    {
      "cell_type": "code",
      "metadata": {
        "id": "zUTIaxmKGJ0R"
      },
      "source": [
        "type(['Mon', 'Tue', 'Wed', 'Thu', 'Fri', 'Say', 'Sun'])"
      ],
      "execution_count": null,
      "outputs": []
    },
    {
      "cell_type": "code",
      "metadata": {
        "id": "BrF8LT4UHg68"
      },
      "source": [
        "type([1, 'a', [0, 1]])"
      ],
      "execution_count": null,
      "outputs": []
    },
    {
      "cell_type": "code",
      "metadata": {
        "id": "_w7Ijxi9GAcf"
      },
      "source": [
        "type({1:'one', 2:'two', 3:'three'})"
      ],
      "execution_count": null,
      "outputs": []
    },
    {
      "cell_type": "markdown",
      "metadata": {
        "id": "Oek9sgxpHD3r"
      },
      "source": [
        "The types shown above are:\n",
        "\n",
        "*   int = integer\n",
        "*   float = floating point number (decimal)\n",
        "*   str = string (one or more characters)\n",
        "*   list = list of items (the items can be of any type)\n",
        "*   dict = a dictionary\n",
        "\n",
        "\n",
        "\n"
      ]
    },
    {
      "cell_type": "markdown",
      "metadata": {
        "id": "BL2Yg2yoGsZj"
      },
      "source": [
        "Certain functions (or operations) may behave differently depending on the type of data used as inputs (the inputs to a function are called its arguments). Or they may not work at all. For instance, try playing around with the + operator."
      ]
    },
    {
      "cell_type": "code",
      "metadata": {
        "id": "CPK9CJTSIJZQ"
      },
      "source": [
        "2 + 4"
      ],
      "execution_count": null,
      "outputs": []
    },
    {
      "cell_type": "code",
      "metadata": {
        "id": "UaguQXh-ILnh"
      },
      "source": [
        "'2' + '4'"
      ],
      "execution_count": null,
      "outputs": []
    },
    {
      "cell_type": "code",
      "metadata": {
        "id": "mkvYnd0KIkVg"
      },
      "source": [
        "'2' + 4"
      ],
      "execution_count": null,
      "outputs": []
    },
    {
      "cell_type": "code",
      "metadata": {
        "id": "f7YYBwt1Is3g"
      },
      "source": [
        "2 + '4'"
      ],
      "execution_count": null,
      "outputs": []
    },
    {
      "cell_type": "markdown",
      "metadata": {
        "id": "glEmVk5nI0LM"
      },
      "source": [
        "There are ways to convert one data type to another. Take a look at the code examples below."
      ]
    },
    {
      "cell_type": "code",
      "metadata": {
        "id": "bpTm2L4jI5zn"
      },
      "source": [
        "int('2') + 4"
      ],
      "execution_count": null,
      "outputs": []
    },
    {
      "cell_type": "code",
      "metadata": {
        "id": "A6dAasmeI9AP"
      },
      "source": [
        "str(2) + '4'"
      ],
      "execution_count": null,
      "outputs": []
    },
    {
      "cell_type": "code",
      "metadata": {
        "id": "9LR8PMfCE8WS"
      },
      "source": [
        "float(2)"
      ],
      "execution_count": null,
      "outputs": []
    },
    {
      "cell_type": "code",
      "metadata": {
        "id": "wSU0okv6FFEd"
      },
      "source": [
        "2.0 + 4 # pay attention to the way the result is displayed here - what type is it?"
      ],
      "execution_count": null,
      "outputs": []
    },
    {
      "cell_type": "markdown",
      "metadata": {
        "id": "DVWhalASD1hH"
      },
      "source": [
        "**Exercises**\n",
        "\n",
        "Create a code cell by rolling your mouse over the line separating this cell from the one below. You'll see two boxes pop up. One says \"+ Code\" and the other \"+ Text\". Select \"+ Code\" and then try entering some Python code of your own. Maybe try printing out some of the mathematical results from above to see what happens. Have fun!"
      ]
    },
    {
      "cell_type": "markdown",
      "metadata": {
        "id": "a_FHV3JfMjv8"
      },
      "source": [
        "Here are some additional exercises from *Think Python*. \n",
        "\n",
        "**Exercise 1.1.** \n",
        "\n",
        "Whenever you are experimenting with a new feature, you should try to make mistakes. For example, in the “Hello, world!” program, what happens if you leave out one of the quotation marks? What if you leave out both? What if you spell print wrong?\n",
        "\n",
        "This kind of experiment helps you remember what you read; it also helps when you are programming, because you get to know what the error messages mean. It is better to make mistakes now and on purpose than later and accidentally.\n",
        "\n",
        "1.   In a print statement, what happens if you leave out one of the parentheses, or both?\n",
        "2.   If you are trying to print a string, what happens if you leave out one of the quotation marks, or both?\n",
        "3. You can use a minus sign to make a negative number like -2. What happens if you put a plus sign before a number? What about 2++2?\n",
        "4.   In math notation, leading zeros are ok, as in 09. What happens if you try this in Python? What about 011?\n",
        "5.   What happens if you have two values with no operator between them?\n",
        " \n",
        "**Exercise 2.2** Use Python as a calculator.\n",
        "1. How many seconds are there in 42 minutes 42 seconds?\n",
        "2. How many miles are there in 10 kilometers? Hint: there are 1.609 kilometers in a mile.\n",
        "3. If you run a 10 kilometer race in 42 minutes 42 seconds, what is your average pace (time per mile in minutes and seconds)? What is your average speed in miles per hour?"
      ]
    }
  ]
}