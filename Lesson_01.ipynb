{
  "nbformat": 4,
  "nbformat_minor": 0,
  "metadata": {
    "colab": {
      "name": "Lesson 01",
      "provenance": [],
      "collapsed_sections": [],
      "authorship_tag": "ABX9TyNT3X5r+EMvmhVLuF5GVlbR",
      "include_colab_link": true
    },
    "kernelspec": {
      "name": "python3",
      "display_name": "Python 3"
    }
  },
  "cells": [
    {
      "cell_type": "markdown",
      "metadata": {
        "id": "view-in-github",
        "colab_type": "text"
      },
      "source": [
        "<a href=\"https://colab.research.google.com/github/cbtaylor/DT/blob/main/Lesson_01.ipynb\" target=\"_parent\"><img src=\"https://colab.research.google.com/assets/colab-badge.svg\" alt=\"Open In Colab\"/></a>"
      ]
    },
    {
      "cell_type": "markdown",
      "metadata": {
        "id": "8CqVcs3ycZMS"
      },
      "source": [
        "![DT logo](https://www.vsb.bc.ca/schools/david-thompson/Style%20Library/ci_upload/b23adb4c-51ee-4635-bf1e-fb49cd258469n.png)\n",
        "**Computer Studies 10**\n",
        "\n",
        "---\n",
        "\n",
        "\n",
        "## Python Unit ##\n",
        "We will be learning Python 3 in this course. There is a textbook for the course, but I will only cover a small part of it. The text is called *Think Python*. You can download a PDF of the book [here](http://greenteapress.com/thinkpython2/thinkpython2.pdf), or you can view an HTML version of the book [here](http://greenteapress.com/thinkpython2/html/index.html). I will copy exercises from the book into some lessons.\n"
      ]
    },
    {
      "cell_type": "markdown",
      "metadata": {
        "id": "2Ax8-BtQjArK"
      },
      "source": [
        "**Lesson 01**\n",
        "\n",
        "Variables can store information or data. In Python there are certain rules for naming variables and there are also certain conventions. First the rules:\n",
        "\n",
        "*   variable names can't start with a number\n",
        "*   variable names can't be any of the [reserved words](https://www.tutorialspoint.com/What-are-Reserved-Keywords-in-Python) (e.g. and, or, not, for, True, False, etc.)\n",
        "*   variable names can't start with a -, +, *, or pretty much any symbol except _\n",
        "\n",
        "Now the conventions:\n",
        "\n",
        "*   in Python the convention is to use only lowercase letters\n",
        "*   variable names should be descriptive and even though there is no real limit to their length they shouldn't be overly long\n",
        "\n",
        "\n",
        "\n"
      ]
    },
    {
      "cell_type": "code",
      "metadata": {
        "id": "OajszEiui0_V"
      },
      "source": [
        "name = \"\" # type your name between the quotes\n",
        "print(name)"
      ],
      "execution_count": null,
      "outputs": []
    },
    {
      "cell_type": "markdown",
      "metadata": {
        "id": "fz8k8VtpmZUy"
      },
      "source": [
        "In general you can't use mathematical operators with strings, but there are two exceptions: the '+' symbol and the '*' symbol. Let's take a look at a couple of examples using those symbols with string. See if you can predict what will be printed before running the code block. Then modify the code to experiment."
      ]
    },
    {
      "cell_type": "code",
      "metadata": {
        "id": "jys2aKyYaRTk"
      },
      "source": [
        "greeting = \"Hello \" + name + \". How are you?\"\n",
        "print(greeting)"
      ],
      "execution_count": null,
      "outputs": []
    },
    {
      "cell_type": "code",
      "metadata": {
        "id": "22_DIAY1aTo5"
      },
      "source": [
        "nonsense = name * 5\n",
        "print(nonsense)"
      ],
      "execution_count": null,
      "outputs": []
    },
    {
      "cell_type": "markdown",
      "metadata": {
        "id": "lfEN7Mg4nj5P"
      },
      "source": [
        "**Exercises**\n",
        "\n",
        "Take a look at Chapter 2 in the text. There is a short section explaining how to create and execute python scripts."
      ]
    },
    {
      "cell_type": "markdown",
      "metadata": {
        "id": "x8AULfBjoIKm"
      },
      "source": [
        "Here are some additional exercises from Think Python.\n",
        "\n",
        "**Exercise 2.1**\n",
        "\n",
        "*   We’ve seen that `n = 42` is legal. What about `42 = n`?\n",
        "*   How about `x = y = 1`?\n",
        "*   In some languages every statement ends with a semi-colon, ;. What happens if you put a\n",
        "semi-colon at the end of a Python statement?\n",
        "*   What if you put a period at the end of a statement?\n",
        "*   In math notation you can multiply x and y like this: xy. What happens if you try that in Python?\n",
        "\n",
        "**Exercise 2.2** Practice using Python as a calculator.\n",
        "\n",
        "*   The volume of a sphere is $\\frac{4\\pi r^3}{3}$. What is the volume of a sphere with radius 5?\n",
        "*   Suppose the cover price of a book is 24.95, but bookstores get a 40\\% discount. Shipping costs three dollars for the first copy and 75 cents for each additional copy. What is the total wholesale cost for 60 copies?\n",
        "*   If I leave my house at 6:52 am and run 1 mile at an easy pace (8:15 per mile), then 3 miles at tempo (7:12 per mile) and 1 mile at easy pace again, what time do I get home for breakfast?"
      ]
    }
  ]
}