{
  "nbformat": 4,
  "nbformat_minor": 0,
  "metadata": {
    "colab": {
      "name": "Lesson 03",
      "provenance": [],
      "authorship_tag": "ABX9TyOkOx3Q9rFVScEwvHg7Dcn4",
      "include_colab_link": true
    },
    "kernelspec": {
      "name": "python3",
      "display_name": "Python 3"
    }
  },
  "cells": [
    {
      "cell_type": "markdown",
      "metadata": {
        "id": "view-in-github",
        "colab_type": "text"
      },
      "source": [
        "<a href=\"https://colab.research.google.com/github/cbtaylor/DT/blob/main/Lesson_03.ipynb\" target=\"_parent\"><img src=\"https://colab.research.google.com/assets/colab-badge.svg\" alt=\"Open In Colab\"/></a>"
      ]
    },
    {
      "cell_type": "markdown",
      "metadata": {
        "id": "ieqTHhDEQGi2"
      },
      "source": [
        "![DT logo](https://www.vsb.bc.ca/schools/david-thompson/Style%20Library/ci_upload/b23adb4c-51ee-4635-bf1e-fb49cd258469n.png)\n",
        "**Computer Studies 10**\n",
        "\n",
        "---\n",
        "\n",
        "\n",
        "## Python Unit ##\n",
        "We will be learning Python 3 in this course. There is a textbook for the course, but I will only cover a small part of it. The text is called *Think Python*. You can download a PDF of the book [here](http://greenteapress.com/thinkpython2/thinkpython2.pdf), or you can view an HTML version of the book [here](http://greenteapress.com/thinkpython2/html/index.html). I will copy exercises from the book into some lessons."
      ]
    },
    {
      "cell_type": "markdown",
      "metadata": {
        "id": "TK2Fdxa4dWyr"
      },
      "source": [
        "**Lesson 03** - Functions continued\n",
        "\n",
        "Let's learn a few more things about functions.\n",
        "\n",
        "Scope is very important concept in computer programming. Scope refers to the part of the program where the name of a variable is valid. In the first cell we're going to create a variable y and assign it a value of 10.\n"
      ]
    },
    {
      "cell_type": "code",
      "metadata": {
        "id": "WHh5fES0dNIJ"
      },
      "source": [
        "y = 10"
      ],
      "execution_count": null,
      "outputs": []
    },
    {
      "cell_type": "code",
      "metadata": {
        "id": "cHbsKumqMixK"
      },
      "source": [
        "print(y)"
      ],
      "execution_count": null,
      "outputs": []
    },
    {
      "cell_type": "markdown",
      "metadata": {
        "id": "SIREdDzgNZZp"
      },
      "source": [
        "In the next code block we'll defining a function that takes a single argument and does a calculation on it. Specifically it multiplies the argument by 2 and adds 1 to it. This value is then assigned to the variable `y`. And finally the function returns the value of `y`."
      ]
    },
    {
      "cell_type": "code",
      "metadata": {
        "id": "ZN_TbIyUMkvx"
      },
      "source": [
        "def line(x):\n",
        "  y = 2*x + 1\n",
        "  return y"
      ],
      "execution_count": null,
      "outputs": []
    },
    {
      "cell_type": "code",
      "metadata": {
        "id": "Ov3YG42QM2aY"
      },
      "source": [
        "line(3)"
      ],
      "execution_count": null,
      "outputs": []
    },
    {
      "cell_type": "markdown",
      "metadata": {
        "id": "C-Z4cET4Nu4d"
      },
      "source": [
        "Up to this point nothing should be too surprising. However, what happens when we take a look at the value of `y`?"
      ]
    },
    {
      "cell_type": "code",
      "metadata": {
        "id": "ICp_w5AdM507"
      },
      "source": [
        "print(y)"
      ],
      "execution_count": null,
      "outputs": []
    },
    {
      "cell_type": "markdown",
      "metadata": {
        "id": "uvaZSzJLN3WZ"
      },
      "source": [
        "If you've run the code block above you'll see that the value stored in `y` is still 10. It's as if nothing happened to the value store in `y`. And, in fact, that is the case.\n",
        "\n",
        "The variable y that we created in the first code block is referred to as a **global** variable. It's not accessible inside the function definition unless we specifically state that it is (we'll see how shortly). Inside the function when we use the variable `y` it's referred to as a **local** variable. Once the function returns a value we no longer have access to that variable.\n",
        "\n",
        "This can be viewed as a safety feature. It means that within functions you don't have to worry about accidentally changing the value of a global variable.\n",
        "\n",
        "If you try to print the value of y inside the function it won't know what to do and you'll get an error message when you try to use the function. Let's try it."
      ]
    },
    {
      "cell_type": "code",
      "metadata": {
        "id": "qDLtKrnJM8dD"
      },
      "source": [
        "def line(x):\n",
        "  print(y)\n",
        "  y = 2*x + 1\n",
        "  return y"
      ],
      "execution_count": null,
      "outputs": []
    },
    {
      "cell_type": "code",
      "metadata": {
        "id": "_cGC73S5P9KO"
      },
      "source": [
        "line(10)"
      ],
      "execution_count": null,
      "outputs": []
    },
    {
      "cell_type": "markdown",
      "metadata": {
        "id": "WJnhnmlbQJ_Y"
      },
      "source": [
        "So, how do we use the global variable `y` inside the function? We have to specifically declare `y` to be a global variable. But, note that we will no longer have a local variable `y`, just the global variable."
      ]
    },
    {
      "cell_type": "code",
      "metadata": {
        "id": "eTTtuTJwQY75"
      },
      "source": [
        "def line(x):\n",
        "  global y\n",
        "  print(y)\n",
        "  y = 2*x + 1\n",
        "  return y"
      ],
      "execution_count": null,
      "outputs": []
    },
    {
      "cell_type": "code",
      "metadata": {
        "id": "DoaAtzN6QfVf"
      },
      "source": [
        "line(8)"
      ],
      "execution_count": null,
      "outputs": []
    },
    {
      "cell_type": "markdown",
      "metadata": {
        "id": "qa-z3VYbQlya"
      },
      "source": [
        "The initial value of `y` has been overwritten and no local variable `y` was ever created. Try running the code block below to see this."
      ]
    },
    {
      "cell_type": "code",
      "metadata": {
        "id": "tZzIlWDdQgu2"
      },
      "source": [
        "print(y)"
      ],
      "execution_count": null,
      "outputs": []
    },
    {
      "cell_type": "markdown",
      "metadata": {
        "id": "XuzJvgwgQlAT"
      },
      "source": [
        "In practice you may never have to worry about this. Modifying a global variable from within a function is called a *side effect*. It's generally bad programming practice and can cause serious problems in big programs.\n",
        "\n",
        "Just so you never get confused try to use variable names within your functions that are different from the global variable names."
      ]
    },
    {
      "cell_type": "markdown",
      "metadata": {
        "id": "7DF4O2ZTSGbJ"
      },
      "source": [
        "Let's move on to a different topic. What if you want your function to return more than one value? Let's say you are programming a game and you want to simulate the roll of two dice? Here's how you might do that.\n",
        "\n",
        "First you need to `import` the `random` module. This will give us access to the random number generator that we'll need to simulate rolling a die. We'll talk a lot more about importing modules later, but for now just know that by importing the `random` module we have access to lots of functions that we didn't before."
      ]
    },
    {
      "cell_type": "code",
      "metadata": {
        "id": "oaEcDNJEQifO"
      },
      "source": [
        "def roll():\n",
        "  import random\n",
        "  die1 = random.randint(1,6)\n",
        "  die2 = random.randint(1,6)\n",
        "  return die1, die2"
      ],
      "execution_count": null,
      "outputs": []
    },
    {
      "cell_type": "code",
      "metadata": {
        "id": "jLamG3skS27A"
      },
      "source": [
        "roll()"
      ],
      "execution_count": null,
      "outputs": []
    },
    {
      "cell_type": "markdown",
      "metadata": {
        "id": "jcs6qmEqTPso"
      },
      "source": [
        "The function returned a tuple with the values of the two dice. But what if we want to access each die's value separately?"
      ]
    },
    {
      "cell_type": "code",
      "metadata": {
        "id": "-rx9-9YqS7zu"
      },
      "source": [
        "first_die, second_die = roll()\n",
        "print(first_die)\n",
        "print(second_die)\n",
        "print(\"The first die is \" + str(first_die) + \" and the second die is \" + str(second_die) + \".\")"
      ],
      "execution_count": null,
      "outputs": []
    },
    {
      "cell_type": "markdown",
      "metadata": {
        "id": "Wl8G-Pv9VPFI"
      },
      "source": [
        "So, in a sense we don't really care that the function returned a tuple. We can still access each element of the tuple separately and do whatever we like with each roll of the die."
      ]
    },
    {
      "cell_type": "markdown",
      "metadata": {
        "id": "3nDAnkrBa9Bb"
      },
      "source": [
        "Let's quickly take a look at a function that doesn't return anything, but instead just performs some action."
      ]
    },
    {
      "cell_type": "code",
      "metadata": {
        "id": "ELpqGdHuaZPZ"
      },
      "source": [
        "def greeting(name):\n",
        "  print(\"Hello \" + name + \"!\")"
      ],
      "execution_count": null,
      "outputs": []
    },
    {
      "cell_type": "code",
      "metadata": {
        "id": "FN012amDah-k"
      },
      "source": [
        "greeting(\"Brian\")"
      ],
      "execution_count": null,
      "outputs": []
    },
    {
      "cell_type": "markdown",
      "metadata": {
        "id": "FFeaFXZMbHNS"
      },
      "source": [
        "So far, so good. But what if we assign the output of the function to a variable. What gets assigned to the variable?"
      ]
    },
    {
      "cell_type": "code",
      "metadata": {
        "id": "ujWlnnhPajQb"
      },
      "source": [
        "x = greeting(\"Hal\")"
      ],
      "execution_count": null,
      "outputs": []
    },
    {
      "cell_type": "code",
      "metadata": {
        "id": "jbCMtxQjapyB"
      },
      "source": [
        "x"
      ],
      "execution_count": null,
      "outputs": []
    },
    {
      "cell_type": "markdown",
      "metadata": {
        "id": "gVtw5hz0bPYD"
      },
      "source": [
        "It doesn't seem like anything happened, but let's check what type of variable `x` is."
      ]
    },
    {
      "cell_type": "code",
      "metadata": {
        "id": "fO6Yc3uIaq-6"
      },
      "source": [
        "type(x)"
      ],
      "execution_count": null,
      "outputs": []
    },
    {
      "cell_type": "markdown",
      "metadata": {
        "id": "Ksi7CvVMbXvB"
      },
      "source": [
        "So, in a sense the function did return a value, a very special kind of value called `None`. We could have explicity told the function to return this value (`return None`), but we don't need to."
      ]
    },
    {
      "cell_type": "markdown",
      "metadata": {
        "id": "Nc1_UJOihIj4"
      },
      "source": [
        "**Exercises**\n",
        "\n",
        "Spend some time looking through Chapter 3 of the text. A few aspects of functions are discussed that we didn't look at."
      ]
    },
    {
      "cell_type": "markdown",
      "metadata": {
        "id": "9DTHboXkhjyh"
      },
      "source": [
        "Here are some additional exercises from Think Python.\n",
        "\n",
        "**Exercise 3.1**\n",
        "\n",
        "Write a function named `right_justify` that takes a string named `s` as an argument and prints the string with enough leading spaces so that the entire string outputted is 40 characters long.\n",
        "\n",
        "Hint: Use string concatenation (using the `+` operator) and repetition. Also, Python provides a built-in function called `len` that returns the length of a string, so the value of `len('Monty')` is 5.\n"
      ]
    }
  ]
}