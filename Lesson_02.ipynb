{
  "nbformat": 4,
  "nbformat_minor": 0,
  "metadata": {
    "colab": {
      "name": "Lesson 02",
      "provenance": [],
      "collapsed_sections": [],
      "authorship_tag": "ABX9TyOJlnaX0FsqckpPKr1K5iac",
      "include_colab_link": true
    },
    "kernelspec": {
      "name": "python3",
      "display_name": "Python 3"
    }
  },
  "cells": [
    {
      "cell_type": "markdown",
      "metadata": {
        "id": "view-in-github",
        "colab_type": "text"
      },
      "source": [
        "<a href=\"https://colab.research.google.com/github/cbtaylor/DT/blob/main/Lesson_02.ipynb\" target=\"_parent\"><img src=\"https://colab.research.google.com/assets/colab-badge.svg\" alt=\"Open In Colab\"/></a>"
      ]
    },
    {
      "cell_type": "markdown",
      "metadata": {
        "id": "ieqTHhDEQGi2"
      },
      "source": [
        "![DT logo](https://www.vsb.bc.ca/schools/david-thompson/Style%20Library/ci_upload/b23adb4c-51ee-4635-bf1e-fb49cd258469n.png)\n",
        "**Computer Studies 10**\n",
        "\n",
        "---\n",
        "\n",
        "\n",
        "## Python Unit ##\n",
        "We will be learning Python 3 in this course. There is a textbook for the course, but I will only cover a small part of it. The text is called *Think Python*. You can download a PDF of the book [here](http://greenteapress.com/thinkpython2/thinkpython2.pdf), or you can view an HTML version of the book [here](http://greenteapress.com/thinkpython2/html/index.html). I will copy exercises from the book into some lessons."
      ]
    },
    {
      "cell_type": "markdown",
      "metadata": {
        "id": "xAUP1FQCRjIj"
      },
      "source": [
        "**Lesson 02** - Functions\n",
        "\n",
        "You've already seen and used some of Python's built-in functions, such as `print(), int(), and float()`. Functions are always followed immediately by a pair of parentheses with no space between the function name and the opening parenthesis. Inside those parentheses you can insert the 'arguments' of the function. Some functions don't take any arguments and others take more than one argument.\n",
        "\n",
        "Python has 69 built-in functions. You can see a description of them all [here](https://docs.python.org/3/library/functions.html). You will use some of these functions every time you do any programming, and others you may never use in a long career of programming. But it's a good idea to take a look at what you can do with plain vanilla Python programming (i.e. without importing any additional modules or packages).\n",
        "\n",
        "Let's explore a few of the functions that we haven't seen yet. See if you can figure out what they're doing just by looking at the output. Change the arguments and experiment. I've put many of these function calls on the same line, separated by commas. This results in the outputs being separated by commas, too (technically the output is in the form a 'tuple')."
      ]
    },
    {
      "cell_type": "code",
      "metadata": {
        "id": "5wPA4FdoP2Zj"
      },
      "source": [
        "abs(5), abs(-3), abs(0), abs(-9.876)"
      ],
      "execution_count": null,
      "outputs": []
    },
    {
      "cell_type": "code",
      "metadata": {
        "id": "_IZjLFztTkXP"
      },
      "source": [
        "bool(0), bool(1), bool(-3), bool(5), bool(3.14)"
      ],
      "execution_count": null,
      "outputs": []
    },
    {
      "cell_type": "code",
      "metadata": {
        "id": "QjbTVKAST0Yx"
      },
      "source": [
        "chr(70), chr(90), chr(120)"
      ],
      "execution_count": null,
      "outputs": []
    },
    {
      "cell_type": "code",
      "metadata": {
        "id": "rVXRQur5UOLt"
      },
      "source": [
        "ord('F'), ord('z'), ord('x')"
      ],
      "execution_count": null,
      "outputs": []
    },
    {
      "cell_type": "code",
      "metadata": {
        "id": "eWsyQvZhUbA2"
      },
      "source": [
        "help(print)"
      ],
      "execution_count": null,
      "outputs": []
    },
    {
      "cell_type": "code",
      "metadata": {
        "id": "N751kFy6U1yS"
      },
      "source": [
        "len(\"David Thompson\")"
      ],
      "execution_count": null,
      "outputs": []
    },
    {
      "cell_type": "code",
      "metadata": {
        "id": "SpnUd76BU-Iz"
      },
      "source": [
        "max(5, 3, 9, 4)"
      ],
      "execution_count": null,
      "outputs": []
    },
    {
      "cell_type": "code",
      "metadata": {
        "id": "RCaj9TXgU_mr"
      },
      "source": [
        "min(5, 3, 9, 4)"
      ],
      "execution_count": null,
      "outputs": []
    },
    {
      "cell_type": "code",
      "metadata": {
        "id": "FQi1tw3VVjTu"
      },
      "source": [
        "pow(5, 3), 5**3, pow(2, 5), 2**5"
      ],
      "execution_count": null,
      "outputs": []
    },
    {
      "cell_type": "code",
      "metadata": {
        "id": "ddUZRZjBVsuf"
      },
      "source": [
        "round(3.1415926), round(3.1415926, 2)"
      ],
      "execution_count": null,
      "outputs": []
    },
    {
      "cell_type": "code",
      "metadata": {
        "id": "XSQZN4bxV7oB"
      },
      "source": [
        "sorted([2, 6, 4, 10, 1, 30]), sorted([2, 6, 4, 10, 1, 30], reverse=True)"
      ],
      "execution_count": null,
      "outputs": []
    },
    {
      "cell_type": "code",
      "metadata": {
        "id": "Me0uvyXDWa_k"
      },
      "source": [
        "sorted(\"abracadabra\"), sorted(\"David Thompson\"), sorted(\"David Thompson\", reverse=True)"
      ],
      "execution_count": null,
      "outputs": []
    },
    {
      "cell_type": "code",
      "metadata": {
        "id": "2PllOYdiW9Tj"
      },
      "source": [
        "sum([2, 4, 6, 8, 10])"
      ],
      "execution_count": null,
      "outputs": []
    },
    {
      "cell_type": "markdown",
      "metadata": {
        "id": "1JRHJgqeXO71"
      },
      "source": [
        "You'll notice that if you start to type a function in a Google Colab notebook (and other programming environments) you get some information popping up to help you use the function correctly. Try it now if you haven't done so already. In the code block below start typing some of the functions from above. As soon as you start typing the name of the function you'll get a list of available options and some information, and then when you type the opening parenthesis you'll get more information."
      ]
    },
    {
      "cell_type": "code",
      "metadata": {
        "id": "yBddhquAXEbD"
      },
      "source": [
        ""
      ],
      "execution_count": null,
      "outputs": []
    },
    {
      "cell_type": "markdown",
      "metadata": {
        "id": "zs6UxLX4YB01"
      },
      "source": [
        "**Defining your own functions**\n",
        "\n",
        "It's very easy to create your own functions. Let's create a function called `square` that takes a single numerical argument and returns the square of that argument. By convention all Python functions, just like variables, use lower case letters (see [here](https://www.python.org/dev/peps/pep-0008/#function-and-variable-names))."
      ]
    },
    {
      "cell_type": "code",
      "metadata": {
        "id": "QS1Kxai1YYkh"
      },
      "source": [
        "def square(x):\n",
        "  return x**2"
      ],
      "execution_count": null,
      "outputs": []
    },
    {
      "cell_type": "markdown",
      "metadata": {
        "id": "7JfOy1gnYgAR"
      },
      "source": [
        "When you run the code block above nothing happens, but you have now defined a new function and can use it in subsequent blocks just like the built-in functions we've seen."
      ]
    },
    {
      "cell_type": "code",
      "metadata": {
        "id": "q3g_Z3zPYfOD"
      },
      "source": [
        "square(5)"
      ],
      "execution_count": null,
      "outputs": []
    },
    {
      "cell_type": "markdown",
      "metadata": {
        "id": "c7SN8l-_Zdaz"
      },
      "source": [
        "See what happens if you enter different arguments. Experiment with different numbers, both positive and negative, integers and floats. Now, try a string (e.g. `\"a\"`) or try two arguments separated by a comma. Python gives you some feedback when it encounters a mistake or something unexpected. This helps you debug your code, or use your code the way it was meant to be used."
      ]
    },
    {
      "cell_type": "markdown",
      "metadata": {
        "id": "5JH4g0-oaT5H"
      },
      "source": [
        "Let's make our function a bit more usable for others by creating a *docstring*. You can read all the technical details of docstrings [here](https://www.python.org/dev/peps/pep-0257/), but for our purposes we'll use the simplest form of docstring - a one liner."
      ]
    },
    {
      "cell_type": "code",
      "metadata": {
        "id": "_UyBtxV3YsuX"
      },
      "source": [
        "def square(x):\n",
        "  '''Returns the square of x.'''\n",
        "  return x ** 2"
      ],
      "execution_count": null,
      "outputs": []
    },
    {
      "cell_type": "markdown",
      "metadata": {
        "id": "8wqvmfZGbuzZ"
      },
      "source": [
        "Run the block above that redefines our function and then in the block below start typing the function name. You should see our docstring appear as soon as you type the opening parenthesis.\n",
        "\n",
        "**From now on whenever you create a function of your own you should include a docstring.** The information in a docstring should be very concise and explain what is being done and what is being returned. The information must be on the first line of the function definition and be enclosed in triple quotes (either single or double quote character is fine)."
      ]
    },
    {
      "cell_type": "markdown",
      "metadata": {
        "id": "eDokbHVNdUDS"
      },
      "source": [
        "**Function specifics**\n",
        "\n",
        "Let's take a closer look at our function definition to set some things straight.\n",
        "\n",
        "Every function definition starts with the word def followed by the name of the function. Immediately after the function name (no space) is the pair of parentheses. Inside the parentheses we put our arguments (if any) and we separate multiple arguments using commas.\n",
        "\n",
        "Immediately after the closing parenthesis we need a colon (:). And the next line (and all subsequent lines) of the function must be indented. Most code editors (Google Colab is no exception) take care of this indentention automatically for us.\n",
        "\n",
        "In Python functions return a value (or values) by using the `return` keyword. Technically, if a function doesn't return any value it's called a procedure, but in Python there is no difference in how these are defined. (The textbook calls these `void` functions.) \n",
        "\n",
        "Let's create another simple function that adds two numbers."
      ]
    },
    {
      "cell_type": "code",
      "metadata": {
        "id": "n-aeGMiAZbZU"
      },
      "source": [
        "def add(a, b):\n",
        "  '''Returns the sum of a and b.'''\n",
        "  return a + b"
      ],
      "execution_count": null,
      "outputs": []
    },
    {
      "cell_type": "code",
      "metadata": {
        "id": "BxlW6SWxlaI4"
      },
      "source": [
        "add(4, 10)"
      ],
      "execution_count": null,
      "outputs": []
    },
    {
      "cell_type": "markdown",
      "metadata": {
        "id": "945vFpgDNwnx"
      },
      "source": [
        "**Exercises**\n",
        "\n",
        "Create at least three functions of your own. Make sure to give them descriptive names. Maks sure to write a docstring for each function. Use some of the built-in functions we explored above.\n",
        "\n",
        "What happens when functions are used in a way that wasn't intended? What happens when the arguments to `add()` are strings? Try different possibilities with your own functions."
      ]
    }
  ]
}