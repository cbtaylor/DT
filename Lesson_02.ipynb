{
  "nbformat": 4,
  "nbformat_minor": 0,
  "metadata": {
    "colab": {
      "name": "Lesson 02",
      "provenance": [],
      "collapsed_sections": [],
      "authorship_tag": "ABX9TyOx+tKAoeO2mHWKQhsNEjty",
      "include_colab_link": true
    },
    "kernelspec": {
      "name": "python3",
      "display_name": "Python 3"
    }
  },
  "cells": [
    {
      "cell_type": "markdown",
      "metadata": {
        "id": "view-in-github",
        "colab_type": "text"
      },
      "source": [
        "<a href=\"https://colab.research.google.com/github/cbtaylor/DT/blob/main/Lesson_02.ipynb\" target=\"_parent\"><img src=\"https://colab.research.google.com/assets/colab-badge.svg\" alt=\"Open In Colab\"/></a>"
      ]
    },
    {
      "cell_type": "markdown",
      "metadata": {
        "id": "ieqTHhDEQGi2"
      },
      "source": [
        "![DT logo](https://www.vsb.bc.ca/schools/david-thompson/Style%20Library/ci_upload/b23adb4c-51ee-4635-bf1e-fb49cd258469n.png)\n",
        "**Computer Studies 10**\n",
        "\n",
        "---\n",
        "\n",
        "\n",
        "## Python Unit ##\n",
        "We will be learning Python 3 in this course. There is a textbook for the course, but I will only cover a small part of it. The text is called *Think Python*. You can download a PDF of the book [here](http://greenteapress.com/thinkpython2/thinkpython2.pdf), or you can view an HTML version of the book [here](http://greenteapress.com/thinkpython2/html/index.html). I will copy exercises from the book into some lessons."
      ]
    },
    {
      "cell_type": "code",
      "metadata": {
        "id": "5wPA4FdoP2Zj"
      },
      "source": [
        ""
      ],
      "execution_count": null,
      "outputs": []
    }
  ]
}