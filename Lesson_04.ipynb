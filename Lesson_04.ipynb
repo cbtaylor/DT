{
  "nbformat": 4,
  "nbformat_minor": 0,
  "metadata": {
    "colab": {
      "name": "Lesson 04",
      "provenance": [],
      "authorship_tag": "ABX9TyPDLmnltXIFT/ZvtuzzgJJv",
      "include_colab_link": true
    },
    "kernelspec": {
      "name": "python3",
      "display_name": "Python 3"
    }
  },
  "cells": [
    {
      "cell_type": "markdown",
      "metadata": {
        "id": "view-in-github",
        "colab_type": "text"
      },
      "source": [
        "<a href=\"https://colab.research.google.com/github/cbtaylor/DT/blob/main/Lesson_04.ipynb\" target=\"_parent\"><img src=\"https://colab.research.google.com/assets/colab-badge.svg\" alt=\"Open In Colab\"/></a>"
      ]
    },
    {
      "cell_type": "markdown",
      "metadata": {
        "id": "ieqTHhDEQGi2"
      },
      "source": [
        "![DT logo](https://www.vsb.bc.ca/schools/david-thompson/Style%20Library/ci_upload/b23adb4c-51ee-4635-bf1e-fb49cd258469n.png)\n",
        "**Computer Studies 10**\n",
        "\n",
        "---\n",
        "\n",
        "\n",
        "## Python Unit ##\n",
        "We will be learning Python 3 in this course. There is a textbook for the course, but I will only cover a small part of it. The text is called *Think Python*. You can download a PDF of the book [here](http://greenteapress.com/thinkpython2/thinkpython2.pdf), or you can view an HTML version of the book [here](http://greenteapress.com/thinkpython2/html/index.html). I will copy exercises from the book into some lessons."
      ]
    },
    {
      "cell_type": "markdown",
      "metadata": {
        "id": "F0vUQAB1ltD9"
      },
      "source": [
        "**Lesson 04** - Lists and strings\n",
        "\n",
        "Let's learn about lists (and in the process a little about strings). This lesson is a bit longer because there are may ways to manipulate lists.\n",
        "\n",
        "A list is a fundamental data type in most programming languages and Python is no exception. Let's see how they work."
      ]
    },
    {
      "cell_type": "code",
      "metadata": {
        "id": "3thMLUx2mHPc"
      },
      "source": [
        "alist = []  # this creates an empty list - note the use of the square brackets\n",
        "blist = [1, 3, 5, 7, 9, 11, 13]  # lists can contain numbers\n",
        "clist = ['one', 'two', 'three', 'four']  # lists can contain strings\n",
        "dlist = [1, 'a', 2, 'b', 3, 'c'] # lists don't have to contain data of the same type\n",
        "elist = [alist, blist, clist, dlist] # lists can contain lists!"
      ],
      "execution_count": null,
      "outputs": []
    },
    {
      "cell_type": "markdown",
      "metadata": {
        "id": "OqGKNBRwqJkq"
      },
      "source": [
        "So now you know how to create lists of all sorts. How do we access individual elements within a list? That requires using index notation. Python, like most programming languages, uses zero indexing, meaning that the first element in a list has an index of 0 and the second has an index of 1, etc."
      ]
    },
    {
      "cell_type": "code",
      "metadata": {
        "id": "VsVRgr7MqkU6"
      },
      "source": [
        "blist[0]"
      ],
      "execution_count": null,
      "outputs": []
    },
    {
      "cell_type": "code",
      "metadata": {
        "id": "myQCczbQqmvb"
      },
      "source": [
        "blist[1]"
      ],
      "execution_count": null,
      "outputs": []
    },
    {
      "cell_type": "markdown",
      "metadata": {
        "id": "cLSP40ZNtNSU"
      },
      "source": [
        "In the case of elist (the list of lists we created) we can either use a single index, in which case the output will one of the lists, or we can use two indexes, in which case the output will be an element of one of the lists."
      ]
    },
    {
      "cell_type": "code",
      "metadata": {
        "id": "V_-IgJhTtagi"
      },
      "source": [
        "elist[2]"
      ],
      "execution_count": null,
      "outputs": []
    },
    {
      "cell_type": "code",
      "metadata": {
        "id": "WeigJr8yte0s"
      },
      "source": [
        "elist[2][1]"
      ],
      "execution_count": null,
      "outputs": []
    },
    {
      "cell_type": "markdown",
      "metadata": {
        "id": "msNxpmsYqxUj"
      },
      "source": [
        "Python, more than most programming languages, allows for very flexible ways of accessing elements in a list. We can use negative indexes to access elements at the end of a list."
      ]
    },
    {
      "cell_type": "code",
      "metadata": {
        "id": "g7e9BGljqrrV"
      },
      "source": [
        "clist[-1]"
      ],
      "execution_count": null,
      "outputs": []
    },
    {
      "cell_type": "code",
      "metadata": {
        "id": "xoewXJsiq-9v"
      },
      "source": [
        "clist[-2]"
      ],
      "execution_count": null,
      "outputs": []
    },
    {
      "cell_type": "markdown",
      "metadata": {
        "id": "gnlFleVOrIZr"
      },
      "source": [
        "By using a colon we can access *slices* of a list."
      ]
    },
    {
      "cell_type": "code",
      "metadata": {
        "id": "pEG256QxrA4-"
      },
      "source": [
        "blist[1:3] # the result here is a list in itself"
      ],
      "execution_count": null,
      "outputs": []
    },
    {
      "cell_type": "markdown",
      "metadata": {
        "id": "odV1jk8orbrc"
      },
      "source": [
        "Notice that the resulting slice contained the element with an index of 1 and the element with an index of 2, but not the element with an index of 3. So it creates a slice from 1 to 3, including 1 but not including 3. I always like to subtract the lower index from the upper to determine how many elements will be in the slice. Try a few slicing operations yourself using `flist` below."
      ]
    },
    {
      "cell_type": "code",
      "metadata": {
        "id": "3b6IGkEqr78l"
      },
      "source": [
        "flist = [0, 1, 2, 3, 4, 5, 6, 7, 8, 9, 10, 11, 12, 13, 14, 15, 16, 17, 18, 19]"
      ],
      "execution_count": null,
      "outputs": []
    },
    {
      "cell_type": "markdown",
      "metadata": {
        "id": "97J-hFyrsedb"
      },
      "source": [
        "Watch what happens if we leave out one of the parameters to the slicing operation."
      ]
    },
    {
      "cell_type": "code",
      "metadata": {
        "id": "Zx0E1iMNsje7"
      },
      "source": [
        "flist[:5] # this gives us the first five elements in the list"
      ],
      "execution_count": null,
      "outputs": []
    },
    {
      "cell_type": "code",
      "metadata": {
        "id": "1X1DxUYgsnKT"
      },
      "source": [
        "flist[9:] # how many elements does this give us?"
      ],
      "execution_count": null,
      "outputs": []
    },
    {
      "cell_type": "markdown",
      "metadata": {
        "id": "4XAMfYeksP8t"
      },
      "source": [
        "We can add a third parameter to the slicing operation. See if you can guess what it does."
      ]
    },
    {
      "cell_type": "code",
      "metadata": {
        "id": "RAPJXuFMsJQN"
      },
      "source": [
        "flist[4:17:2]"
      ],
      "execution_count": null,
      "outputs": []
    },
    {
      "cell_type": "code",
      "metadata": {
        "id": "bRyk_P2fsLjg"
      },
      "source": [
        "flist[12:3:-1]"
      ],
      "execution_count": null,
      "outputs": []
    },
    {
      "cell_type": "markdown",
      "metadata": {
        "id": "gkAQA8a7uAFW"
      },
      "source": [
        "One very convenient thing in Python is that strings are treated as lists of characters. So, all of the functionality from above can be applied just as easily to strings. This makes Python an exceptionally good language for string manipulation, something quite important in many contexts."
      ]
    },
    {
      "cell_type": "code",
      "metadata": {
        "id": "zoMfODw9t_us"
      },
      "source": [
        "alpha = 'abcdefghijklmnopqrstuvwxyz'"
      ],
      "execution_count": null,
      "outputs": []
    },
    {
      "cell_type": "markdown",
      "metadata": {
        "id": "e2xh1FsfvSGs"
      },
      "source": [
        "See if you can predict the output before running the following code blocks."
      ]
    },
    {
      "cell_type": "code",
      "metadata": {
        "id": "44moVb3Ss06u"
      },
      "source": [
        "alpha[0]"
      ],
      "execution_count": null,
      "outputs": []
    },
    {
      "cell_type": "code",
      "metadata": {
        "id": "EQRIYm-LuUK_"
      },
      "source": [
        "alpha[-2]"
      ],
      "execution_count": null,
      "outputs": []
    },
    {
      "cell_type": "code",
      "metadata": {
        "id": "2UXHTHtFu_m1"
      },
      "source": [
        "alpha[10:13]"
      ],
      "execution_count": null,
      "outputs": []
    },
    {
      "cell_type": "code",
      "metadata": {
        "id": "rVTxl_0_u_bZ"
      },
      "source": [
        "alpha[:4]"
      ],
      "execution_count": null,
      "outputs": []
    },
    {
      "cell_type": "code",
      "metadata": {
        "id": "jIRac0Xxu_PF"
      },
      "source": [
        "alpha[20:]"
      ],
      "execution_count": null,
      "outputs": []
    },
    {
      "cell_type": "code",
      "metadata": {
        "id": "Zi-zUPybu-9A"
      },
      "source": [
        "alpha[14:23:2]"
      ],
      "execution_count": null,
      "outputs": []
    },
    {
      "cell_type": "code",
      "metadata": {
        "id": "Y79z0U0JvJdM"
      },
      "source": [
        "alpha[::-1]"
      ],
      "execution_count": null,
      "outputs": []
    },
    {
      "cell_type": "markdown",
      "metadata": {
        "id": "ssUzelaHGnqA"
      },
      "source": [
        "How do we add a new element to a list, or another string to an existing string? We've actually already seen one way: use the `+` operator."
      ]
    },
    {
      "cell_type": "code",
      "metadata": {
        "id": "-1XRcHSlG3pu"
      },
      "source": [
        "[1, 2, 3, 4] + [5, 6, 7]"
      ],
      "execution_count": null,
      "outputs": []
    },
    {
      "cell_type": "code",
      "metadata": {
        "id": "nuJ-Y8DGG9w3"
      },
      "source": [
        "\"Hello\" + \" \" + \"world!\""
      ],
      "execution_count": null,
      "outputs": []
    },
    {
      "cell_type": "markdown",
      "metadata": {
        "id": "8OsgBx7YKikT"
      },
      "source": [
        "There are some other ways. These use various functions that work on lists, but the way we access those functions is a bit different. We use *dot notation*, and the functions themselves are often referred to as methods. But in the end they're still functions."
      ]
    },
    {
      "cell_type": "code",
      "metadata": {
        "id": "N1-rBg3XK3Tw"
      },
      "source": [
        "glist = [1, 2, 3, 4]\n",
        "glist.append(5)\n",
        "glist"
      ],
      "execution_count": null,
      "outputs": []
    },
    {
      "cell_type": "markdown",
      "metadata": {
        "id": "SHzziZDaQC_N"
      },
      "source": [
        "However, even though you might reasonably think that you could use the `append` method to join two lists it doesn't quite work that way. Run the following code block to see what happens."
      ]
    },
    {
      "cell_type": "code",
      "metadata": {
        "id": "T32cQWMGQOM9"
      },
      "source": [
        "list1 = [1, 2, 3, 4]\n",
        "list2 = [5, 6, 7]\n",
        "list1.append(list2)\n",
        "list1"
      ],
      "execution_count": null,
      "outputs": []
    },
    {
      "cell_type": "markdown",
      "metadata": {
        "id": "wmqrUPAxQt3p"
      },
      "source": [
        "So, even though we have a list with everything combined it's not a straighforward list. If we access the individual elements of `list1` we'll see that the first four elements are numbers and the fifth element is a list."
      ]
    },
    {
      "cell_type": "code",
      "metadata": {
        "id": "_atbsOtGRCxx"
      },
      "source": [
        "list1[4]"
      ],
      "execution_count": null,
      "outputs": []
    },
    {
      "cell_type": "markdown",
      "metadata": {
        "id": "i8hrUBP4LRTx"
      },
      "source": [
        "Now, even though I claimed that Python treats strings as lists of characters, it's not quite the case. Try using the `append` method on a string in the code block below."
      ]
    },
    {
      "cell_type": "code",
      "metadata": {
        "id": "BQeYt49HLCE6"
      },
      "source": [
        "name = \"David Thomp\"\n",
        "name.append(\"son\")"
      ],
      "execution_count": null,
      "outputs": []
    },
    {
      "cell_type": "markdown",
      "metadata": {
        "id": "xLoNfeinSSr5"
      },
      "source": [
        "Even though we can't use list methods on strings there are [37 string methods](https://docs.python.org/2.5/lib/string-methods.html) that can use. We'll take a look at some of them in the next lesson. "
      ]
    },
    {
      "cell_type": "markdown",
      "metadata": {
        "id": "pY9HVo78MVCE"
      },
      "source": [
        "There are quite a few methods you can use on lists. The official list of methods is in [section 5.1](https://docs.python.org/3/tutorial/datastructures.html) of the Python documentation. We've already seen `append`. Let's take a look at a couple more."
      ]
    },
    {
      "cell_type": "code",
      "metadata": {
        "id": "QfrGduN2LkPD"
      },
      "source": [
        "hlist = ['a', 'b', 'c', 'd', 'e', 'd', 'c', 'b', 'a']\n",
        "hlist.remove('c') # does this remove both letters or just one?\n",
        "hlist"
      ],
      "execution_count": null,
      "outputs": []
    },
    {
      "cell_type": "code",
      "metadata": {
        "id": "O6dloMorQhHZ"
      },
      "source": [
        "hlist = ['a', 'b', 'c', 'd', 'e', 'd', 'c', 'b', 'a']\n",
        "hlist.clear()\n",
        "hlist"
      ],
      "execution_count": null,
      "outputs": []
    },
    {
      "cell_type": "code",
      "metadata": {
        "id": "IpqfyfcgQqb7"
      },
      "source": [
        "hlist = ['a', 'b', 'c', 'd', 'e', 'd', 'c', 'b', 'a']\n",
        "hlist.count('a')"
      ],
      "execution_count": null,
      "outputs": []
    },
    {
      "cell_type": "code",
      "metadata": {
        "id": "kwKN_92OQy9r"
      },
      "source": [
        "hlist = ['a', 'b', 'c', 'd', 'e', 'd', 'c', 'b', 'a']\n",
        "hlist.sort()\n",
        "hlist"
      ],
      "execution_count": null,
      "outputs": []
    },
    {
      "cell_type": "code",
      "metadata": {
        "id": "jX34k6ISRBXi"
      },
      "source": [
        "ilist = ['a', 'b', 'c', 'd', 'e', 'f']\n",
        "ilist.reverse()\n",
        "ilist"
      ],
      "execution_count": null,
      "outputs": []
    },
    {
      "cell_type": "code",
      "metadata": {
        "id": "e_neub0HRRUH"
      },
      "source": [
        "ilist = ['a', 'b', 'c', 'd', 'e', 'f']\n",
        "ilist.sort(reverse=True). # this does the same thing as above\n",
        "ilist"
      ],
      "execution_count": null,
      "outputs": []
    },
    {
      "cell_type": "code",
      "metadata": {
        "id": "axcUI9_HRloV"
      },
      "source": [
        "jlist = ['one', 'two', 'three', 'four']\n",
        "jlist.pop()"
      ],
      "execution_count": null,
      "outputs": []
    },
    {
      "cell_type": "markdown",
      "metadata": {
        "id": "q8-cOXwLRzpe"
      },
      "source": [
        "Note that `pop` not only returns the last element in the list, but it removes it, too. Try running the next code block to see the effect on `jlist`."
      ]
    },
    {
      "cell_type": "code",
      "metadata": {
        "id": "C7lCgVcmR7vO"
      },
      "source": [
        "jlist"
      ],
      "execution_count": null,
      "outputs": []
    },
    {
      "cell_type": "markdown",
      "metadata": {
        "id": "R3-72kEfSLDt"
      },
      "source": [
        "Inserting an element into a list is a bit tricky. The first argument is the index and the second argument is the element to be inserted."
      ]
    },
    {
      "cell_type": "code",
      "metadata": {
        "id": "4hiWdJlVSZ4k"
      },
      "source": [
        "ilist = ['a', 'b', 'c', 'd', 'e', 'f']\n",
        "ilist.insert(2, 'x')\n",
        "ilist"
      ],
      "execution_count": null,
      "outputs": []
    },
    {
      "cell_type": "markdown",
      "metadata": {
        "id": "F5VePcJ-E3aX"
      },
      "source": [
        "**Exercises**\n",
        "\n",
        "1.   Create a function called `last3` that takes a string as an argument and returns the last three letters (assuming there are at least three letters in the string -- what if there aren't?)\n",
        "2.   Create a function called 'alt' that takes a string as an argument and returns every second letter, starting with the third letter.\n",
        "3.   Create a function called `del3rd` that takes a list (or string) as an argument and returns a list with the third element (or letter) removed.\n",
        "4.   Create a function called `combine3` that takes three lists as arguments and returns a single list with the elements of all three arguments. What else can this function do if the arguments are of a different data type?\n",
        "\n"
      ]
    }
  ]
}